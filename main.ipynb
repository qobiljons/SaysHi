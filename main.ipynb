{
 "cells": [
  {
   "cell_type": "code",
   "execution_count": 9,
   "metadata": {},
   "outputs": [
    {
     "name": "stdout",
     "output_type": "stream",
     "text": [
      "Found 1 chat IDs: [5596650360]\n",
      "Telegram message sent successfully to 5596650360: Hi\n"
     ]
    }
   ],
   "source": [
    "import requests\n",
    "import time\n",
    "\n",
    "def get_chat_ids(token):\n",
    "    url = f\"https://api.telegram.org/bot{token}/getUpdates\"\n",
    "    chat_ids = set()  \n",
    "\n",
    "    try:\n",
    "        response = requests.get(url)\n",
    "        response.raise_for_status()\n",
    "        updates = response.json()\n",
    "\n",
    "        if not updates.get(\"ok\"):\n",
    "            print(f\"Failed to fetch updates: {updates}\")\n",
    "            return []\n",
    "\n",
    "        for update in updates.get(\"result\", []):\n",
    "            if \"message\" in update:\n",
    "                chat_id = update[\"message\"][\"chat\"][\"id\"]\n",
    "                chat_ids.add(chat_id)\n",
    "            elif \"channel_post\" in update:\n",
    "                chat_id = update[\"channel_post\"][\"chat\"][\"id\"]\n",
    "                chat_ids.add(chat_id)\n",
    "\n",
    "       \n",
    "        if updates[\"result\"]:\n",
    "            highest_update_id = max(update[\"update_id\"] for update in updates[\"result\"])\n",
    "            requests.get(url, params={\"offset\": highest_update_id + 1})\n",
    "        return list(chat_ids)\n",
    "\n",
    "    except requests.exceptions.RequestException as e:\n",
    "        print(f\"Error fetching chat IDs: {e}\")\n",
    "        return []\n",
    "\n",
    "def send_telegram_message(token, chat_id, message=\"Hi\"):\n",
    "    url = f\"https://api.telegram.org/bot{token}/sendMessage\"\n",
    "    params = {\n",
    "        \"chat_id\": chat_id,\n",
    "        \"text\": message\n",
    "    }\n",
    "    try:\n",
    "        response = requests.get(url, params=params)\n",
    "        response.raise_for_status()\n",
    "        result = response.json()\n",
    "        if result.get(\"ok\"):\n",
    "            print(f\"Telegram message sent successfully to {chat_id}: {message}\")\n",
    "            return True\n",
    "        else:\n",
    "            print(f\"Failed to send Telegram message to {chat_id}: {result}\")\n",
    "            return False\n",
    "    except requests.exceptions.RequestException as e:\n",
    "        print(f\"Error sending Telegram message to {chat_id}: {e}\")\n",
    "        return False\n",
    "\n",
    "# Replace with your bot token\n",
    "TELEGRAM_BOT_TOKEN = \"7904562677:AAHp5T0Piasm_WEMTeeQoxblkKWVsxnE8J0\"\n",
    "\n",
    "if __name__ == \"__main__\":\n",
    "    chat_ids = get_chat_ids(TELEGRAM_BOT_TOKEN)\n",
    "\n",
    "    if not chat_ids:\n",
    "        print(\"No chat IDs found. Make sure users have interacted with your bot.\")\n",
    "    else:\n",
    "        print(f\"Found {len(chat_ids)} chat IDs: {chat_ids}\")\n",
    "\n",
    "        for chat_id in chat_ids:\n",
    "            success = send_telegram_message(TELEGRAM_BOT_TOKEN, chat_id, \"Hi\")\n",
    "            if not success:\n",
    "                print(f\"Failed to send message to {chat_id}.\")\n",
    "            time.sleep(3)  "
   ]
  }
 ],
 "metadata": {
  "kernelspec": {
   "display_name": "Python 3",
   "language": "python",
   "name": "python3"
  },
  "language_info": {
   "codemirror_mode": {
    "name": "ipython",
    "version": 3
   },
   "file_extension": ".py",
   "mimetype": "text/x-python",
   "name": "python",
   "nbconvert_exporter": "python",
   "pygments_lexer": "ipython3",
   "version": "3.11.8"
  }
 },
 "nbformat": 4,
 "nbformat_minor": 2
}
